{
 "cells": [
  {
   "cell_type": "markdown",
   "metadata": {},
   "source": [
    "# <font style=\"color:rgb(50,120,229)\">Introduction</font>"
   ]
  },
  {
   "cell_type": "markdown",
   "metadata": {},
   "source": [
    "Instagram is a photo-enhancing and sharing app for mobile phones. The name came from “Instant Camera and TeleGram”. It allows users to apply different filters to their pictures and share it. It was launched in September 2010 and was an instant hit among its users with 1 Million registered users within 2 months and 10 million in a year. It was acquired by Facebook in 2012 for $1 Billion. [**You know what is cool? A billion dollars!**](https://www.youtube.com/watch?v=4e0n7vTLz1U)\n",
    "\n",
    "There are many photographic filters present in the app like Clarendon, Gingham, Lark, Moon, X-Pro II, Nashville, Sutro, Kelvin and many more. Most filters can be designed using the method described in color enhancement using curves section. \n",
    "\n",
    "In this part of the project, You will design 2 instagram-like filter on your own. \n",
    "\n",
    "1. Pencil Sketch Filter - This will generate a sketch of the given image as shown in the output below.\n",
    "1. Cartoon Filter using - This should produce a cartoonified output of the input image.\n",
    "\n",
    "Given below is the expected output for the two filters. Looking at the output, you should be able to figure out what processing can produce those results.\n",
    "\n",
    "You can also come up with your own filter and show them in the discussion forum. "
   ]
  },
  {
   "cell_type": "markdown",
   "metadata": {},
   "source": [
    "| <center> <a href=\"https://www.dropbox.com/s/0w8j6ejacfw3lwt/trump.jpg?dl=1\"><img src = \"https://www.dropbox.com/s/0w8j6ejacfw3lwt/trump.jpg?dl=1\" width=500/></a></center> | <center> <a href=\"https://www.dropbox.com/s/yegx6u3bx8otvh5/pencilSketch.jpg?dl=1\"><img src = \"https://www.dropbox.com/s/yegx6u3bx8otvh5/pencilSketch.jpg?dl=1\" width=500/></a></center> | <center> <a href=\"https://www.dropbox.com/s/rttwy9wszo76jse/cartoon.jpg?dl=1\"><img src = \"https://www.dropbox.com/s/rttwy9wszo76jse/cartoon.jpg?dl=1\" width=500/></a></center> | \n",
    "| -------- | -------- | -------- | \n",
    "| <center>Original Image</center>     | <center>Pencil Sketch Result</center>     | <center>Cartoon Filter Result</center>     |\n"
   ]
  },
  {
   "cell_type": "code",
   "execution_count": 3,
   "metadata": {
    "collapsed": true
   },
   "outputs": [],
   "source": [
    "import cv2\n",
    "import matplotlib.pyplot as plt\n",
    "import numpy as np\n",
    "%matplotlib inline"
   ]
  },
  {
   "cell_type": "code",
   "execution_count": 4,
   "metadata": {
    "collapsed": true
   },
   "outputs": [],
   "source": [
    "import matplotlib\n",
    "matplotlib.rcParams['figure.figsize'] = (10.0, 10.0)\n",
    "matplotlib.rcParams['image.cmap'] = 'gray'"
   ]
  },
  {
   "cell_type": "code",
   "execution_count": 1,
   "metadata": {
    "collapsed": true
   },
   "outputs": [],
   "source": [
    "def cartoonify(image, arguments=0):\n",
    "    \n",
    "    ### YOUR CODE HERE\n",
    "\n",
    "    return cartoonImage"
   ]
  },
  {
   "cell_type": "code",
   "execution_count": null,
   "metadata": {
    "collapsed": true
   },
   "outputs": [],
   "source": [
    "def pencilSketch(image, arguments=0):\n",
    "    \n",
    "    ### YOUR CODE HERE\n",
    "\n",
    "    return pencilSketchImage"
   ]
  },
  {
   "cell_type": "code",
   "execution_count": null,
   "metadata": {
    "collapsed": true
   },
   "outputs": [],
   "source": [
    "imagePath = \"trump.jpg\"\n",
    "image = cv2.imread(imagePath)\n",
    "\n",
    "cartoonImage = cartoonify(image)\n",
    "pencilSketchImage = pencilSketch(image)"
   ]
  },
  {
   "cell_type": "code",
   "execution_count": null,
   "metadata": {
    "collapsed": true
   },
   "outputs": [],
   "source": [
    "plt.figure(figsize=[20,10])\n",
    "plt.subplot(131);plt.imshow(image[:,:,::-1]);\n",
    "plt.subplot(132);plt.imshow(cartoonImage[:,:,::-1]);\n",
    "plt.subplot(133);plt.imshow(pencilSketchImage[:,:,::-1]);"
   ]
  }
 ],
 "metadata": {
  "kernelspec": {
   "display_name": "Python 3",
   "language": "python",
   "name": "python3"
  },
  "language_info": {
   "codemirror_mode": {
    "name": "ipython",
    "version": 3
   },
   "file_extension": ".py",
   "mimetype": "text/x-python",
   "name": "python",
   "nbconvert_exporter": "python",
   "pygments_lexer": "ipython3",
   "version": "3.6.3"
  }
 },
 "nbformat": 4,
 "nbformat_minor": 2
}
